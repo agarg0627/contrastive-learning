{
  "nbformat": 4,
  "nbformat_minor": 0,
  "metadata": {
    "colab": {
      "provenance": [],
      "machine_shape": "hm",
      "gpuType": "A100"
    },
    "kernelspec": {
      "name": "python3",
      "display_name": "Python 3"
    },
    "language_info": {
      "name": "python"
    },
    "accelerator": "GPU"
  },
  "cells": [
    {
      "cell_type": "code",
      "source": [
        "!pip install openai-clip\n",
        "import torch\n",
        "import torch.nn as nn\n",
        "from torch.utils.data import Dataset, DataLoader\n",
        "from torchvision.datasets import CocoCaptions\n",
        "from torchvision import transforms\n",
        "import clip\n",
        "import numpy as np\n",
        "from PIL import Image\n",
        "from typing import List, Tuple, Dict\n",
        "import os\n",
        "import numpy as np\n",
        "from sklearn.decomposition import PCA\n",
        "import matplotlib.pyplot as plt\n",
        "from mpl_toolkits.mplot3d import Axes3D\n",
        "from tqdm import tqdm, trange\n",
        "from google.colab import drive"
      ],
      "metadata": {
        "colab": {
          "base_uri": "https://localhost:8080/"
        },
        "id": "gG6ySIqeqg7I",
        "outputId": "2a47ad9f-f1e8-4f8d-d11f-d7c0f8dbf5b8"
      },
      "execution_count": 1,
      "outputs": [
        {
          "output_type": "stream",
          "name": "stdout",
          "text": [
            "Collecting openai-clip\n",
            "  Downloading openai-clip-1.0.1.tar.gz (1.4 MB)\n",
            "\u001b[2K     \u001b[90m━━━━━━━━━━━━━━━━━━━━━━━━━━━━━━━━━━━━━━━━\u001b[0m \u001b[32m1.4/1.4 MB\u001b[0m \u001b[31m17.5 MB/s\u001b[0m eta \u001b[36m0:00:00\u001b[0m\n",
            "\u001b[?25h  Preparing metadata (setup.py) ... \u001b[?25l\u001b[?25hdone\n",
            "Collecting ftfy (from openai-clip)\n",
            "  Downloading ftfy-6.3.1-py3-none-any.whl.metadata (7.3 kB)\n",
            "Requirement already satisfied: regex in /usr/local/lib/python3.10/dist-packages (from openai-clip) (2024.9.11)\n",
            "Requirement already satisfied: tqdm in /usr/local/lib/python3.10/dist-packages (from openai-clip) (4.66.6)\n",
            "Requirement already satisfied: wcwidth in /usr/local/lib/python3.10/dist-packages (from ftfy->openai-clip) (0.2.13)\n",
            "Downloading ftfy-6.3.1-py3-none-any.whl (44 kB)\n",
            "\u001b[2K   \u001b[90m━━━━━━━━━━━━━━━━━━━━━━━━━━━━━━━━━━━━━━━━\u001b[0m \u001b[32m44.8/44.8 kB\u001b[0m \u001b[31m4.5 MB/s\u001b[0m eta \u001b[36m0:00:00\u001b[0m\n",
            "\u001b[?25hBuilding wheels for collected packages: openai-clip\n",
            "  Building wheel for openai-clip (setup.py) ... \u001b[?25l\u001b[?25hdone\n",
            "  Created wheel for openai-clip: filename=openai_clip-1.0.1-py3-none-any.whl size=1368605 sha256=0ea51f3df37216b41ad55767a96d0ea6782e5359f945b21c1a14d53141ea78bb\n",
            "  Stored in directory: /root/.cache/pip/wheels/08/77/8e/8d2f862df6bf7fb4e2007062d2cbaeae49862ec7b56d041229\n",
            "Successfully built openai-clip\n",
            "Installing collected packages: ftfy, openai-clip\n",
            "Successfully installed ftfy-6.3.1 openai-clip-1.0.1\n"
          ]
        }
      ]
    },
    {
      "cell_type": "code",
      "source": [
        "class Model(nn.Module):\n",
        "    def __init__(self, clip_model: str = \"ViT-B/32\"):\n",
        "        super().__init__()\n",
        "        self.clip_model, self.preprocess = clip.load(clip_model)\n",
        "\n",
        "        for param in self.clip_model.parameters():\n",
        "            param.requires_grad = False\n",
        "\n",
        "    def forward(self, images: torch.Tensor, captions: List[str]) -> Tuple[torch.Tensor, torch.Tensor]:\n",
        "        image_features = self.clip_model.encode_image(images)\n",
        "        text_features = self.clip_model.encode_text(clip.tokenize(captions).to(images.device))\n",
        "\n",
        "        image_features = image_features / image_features.norm(dim=1, keepdim=True)\n",
        "        text_features = text_features / text_features.norm(dim=1, keepdim=True)\n",
        "\n",
        "        return image_features, text_features"
      ],
      "metadata": {
        "id": "L-tA5J9PqoVs"
      },
      "execution_count": 2,
      "outputs": []
    },
    {
      "cell_type": "code",
      "source": [
        "drive.mount('/content/drive')\n",
        "device = \"cuda\" if torch.cuda.is_available() else \"cpu\"\n",
        "model = Model().to(device)\n",
        "model.load_state_dict(torch.load(\"/content/drive/MyDrive/model.pth\", weights_only=True))\n",
        "model.eval()\n",
        "caption_embeddings = torch.load(\"/content/drive/MyDrive/caption_embeddings.pth\")\n",
        "caption_pool = torch.load(\"/content/drive/MyDrive/captions.pth\")"
      ],
      "metadata": {
        "colab": {
          "base_uri": "https://localhost:8080/"
        },
        "id": "t6IzqkYxqjvn",
        "outputId": "84083d53-6cf0-4187-d33b-ae3065b25a12"
      },
      "execution_count": 3,
      "outputs": [
        {
          "output_type": "stream",
          "name": "stdout",
          "text": [
            "Mounted at /content/drive\n"
          ]
        },
        {
          "output_type": "stream",
          "name": "stderr",
          "text": [
            "100%|████████████████████████████████████████| 338M/338M [00:02<00:00, 159MiB/s]\n",
            "<ipython-input-3-7d9ad3976ef9>:6: FutureWarning: You are using `torch.load` with `weights_only=False` (the current default value), which uses the default pickle module implicitly. It is possible to construct malicious pickle data which will execute arbitrary code during unpickling (See https://github.com/pytorch/pytorch/blob/main/SECURITY.md#untrusted-models for more details). In a future release, the default value for `weights_only` will be flipped to `True`. This limits the functions that could be executed during unpickling. Arbitrary objects will no longer be allowed to be loaded via this mode unless they are explicitly allowlisted by the user via `torch.serialization.add_safe_globals`. We recommend you start setting `weights_only=True` for any use case where you don't have full control of the loaded file. Please open an issue on GitHub for any issues related to this experimental feature.\n",
            "  caption_embeddings = torch.load(\"/content/drive/MyDrive/caption_embeddings.pth\")\n",
            "<ipython-input-3-7d9ad3976ef9>:7: FutureWarning: You are using `torch.load` with `weights_only=False` (the current default value), which uses the default pickle module implicitly. It is possible to construct malicious pickle data which will execute arbitrary code during unpickling (See https://github.com/pytorch/pytorch/blob/main/SECURITY.md#untrusted-models for more details). In a future release, the default value for `weights_only` will be flipped to `True`. This limits the functions that could be executed during unpickling. Arbitrary objects will no longer be allowed to be loaded via this mode unless they are explicitly allowlisted by the user via `torch.serialization.add_safe_globals`. We recommend you start setting `weights_only=True` for any use case where you don't have full control of the loaded file. Please open an issue on GitHub for any issues related to this experimental feature.\n",
            "  caption_pool = torch.load(\"/content/drive/MyDrive/captions.pth\")\n"
          ]
        }
      ]
    },
    {
      "cell_type": "code",
      "source": [
        "def find_best_caption(model,\n",
        "                     image,\n",
        "                     caption_embeddings, caption_pool,\n",
        "                     device=\"cuda\"):\n",
        "    transform = model.preprocess\n",
        "    img_tensor = model.preprocess(image).unsqueeze(0).to(device)\n",
        "    with torch.no_grad():\n",
        "        image_features = model.clip_model.encode_image(img_tensor)\n",
        "    image_features = image_features / image_features.norm(dim=1, keepdim=True)\n",
        "    text_features = torch.stack(caption_embeddings).squeeze(1)\n",
        "    similarities = (image_features @ text_features.t()).squeeze()\n",
        "    best_idx = similarities.argmax().item()\n",
        "\n",
        "    return caption_pool[best_idx], similarities[best_idx].item()"
      ],
      "metadata": {
        "id": "3DOVsMRzqsv3"
      },
      "execution_count": 4,
      "outputs": []
    },
    {
      "cell_type": "markdown",
      "source": [],
      "metadata": {
        "id": "bsRmQLrdtVAk"
      }
    },
    {
      "cell_type": "code",
      "source": [
        "image = Image.open(\"image.jpg\") # Replace with path to your image\n",
        "best_caption, similarity = find_best_caption(model, image, caption_embeddings, caption_pool, device)\n",
        "print(f\"Caption: {best_caption}\")\n",
        "image.show()"
      ],
      "metadata": {
        "id": "avaESlYVrC_3"
      },
      "execution_count": null,
      "outputs": []
    }
  ]
}